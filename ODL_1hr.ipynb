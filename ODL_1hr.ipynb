{
 "cells": [
  {
   "cell_type": "code",
   "execution_count": 2,
   "metadata": {},
   "outputs": [
    {
     "data": {
      "text/plain": [
       "'BfS Download'"
      ]
     },
     "execution_count": 2,
     "metadata": {},
     "output_type": "execute_result"
    }
   ],
   "source": [
    "from owslib.wfs import WebFeatureService\n",
    "wfs11 = WebFeatureService(url='https://www.imis.bfs.de/ogc/opendata/ows', version='1.1.0')\n",
    "wfs11.identification.title"
   ]
  },
  {
   "cell_type": "code",
   "execution_count": 5,
   "metadata": {},
   "outputs": [],
   "source": [
    "typeName='opendata:odlinfo_timeseries_odl_24h'"
   ]
  },
  {
   "cell_type": "code",
   "execution_count": 6,
   "metadata": {},
   "outputs": [
    {
     "name": "stdout",
     "output_type": "stream",
     "text": [
      "{'type': 'FeatureCollection', 'features': [], 'totalFeatures': 0, 'numberMatched': 0, 'numberReturned': 0, 'timeStamp': '2022-10-14T09:50:20.985Z', 'crs': None}\n"
     ]
    }
   ],
   "source": [
    "# getting dataset1\n",
    "import json\n",
    "from owslib.fes import *\n",
    "from owslib.etree import etree\n",
    "import xml.dom.minidom \n",
    "\n",
    "filter = PropertyIsLike(propertyname='kenn', literal='091861251',wildCard='*')\n",
    "filterxml = etree.tostring(filter.toXML()).decode(\"utf-8\")\n",
    "response = wfs11.getfeature(typename=typeName,filter = filterxml,outputFormat='application%2Fjson',maxfeatures=10)\n",
    "# convert IO-byte to bytes\n",
    "bytesD=bytes(response.read())\n",
    "# convert to json\n",
    "data = json.loads(bytesD)\n",
    "print(data)"
   ]
  },
  {
   "cell_type": "code",
   "execution_count": null,
   "metadata": {},
   "outputs": [],
   "source": [
    "#multiple filter1\n",
    "\n",
    "import json\n",
    "from owslib.fes import *\n",
    "from owslib.etree import etree\n",
    "import xml.dom.minidom \n",
    "\n",
    "filter1 = PropertyIsGreaterThanOrEqualTo(propertyname='start', literal='2022-09-01')\n",
    "filter2 = PropertyIsLike(propertyname='id', literal='DEZ0005',wildCard='*')\n",
    "#filters3= PropertyIsLike(propertyname='local_authority', literal='Cham',wildCard='*')\n",
    "filters=[filter1,filter2]\n",
    "\n",
    "filterxml = etree.tostring(And(operations=filters).toXML()).decode(\"utf-8\")\n",
    "\n",
    "\n",
    "response = wfs11.getfeature(typename=typeName,filter = filterxml,outputFormat='application%2Fjson',maxfeatures=100)\n",
    "# convert IO-byte to bytes\n",
    "bytesD=bytes(response.read())\n",
    "# convert to json\n",
    "data = json.loads(bytesD)"
   ]
  },
  {
   "cell_type": "code",
   "execution_count": null,
   "metadata": {},
   "outputs": [],
   "source": [
    "#save json1 to show in qgis\n",
    "import json\n",
    "with open(typeName + '.json', 'w', encoding='utf-8') as f:\n",
    "    json.dump(data, f, ensure_ascii=False, indent=4)"
   ]
  },
  {
   "cell_type": "code",
   "execution_count": null,
   "metadata": {},
   "outputs": [],
   "source": [
    "import pandas as pd\n",
    "#using pandas for serializing\n",
    "df= pd.json_normalize(data,\"features\")\n",
    "df"
   ]
  },
  {
   "cell_type": "code",
   "execution_count": 20,
   "metadata": {},
   "outputs": [
    {
     "ename": "ValueError",
     "evalue": "Length mismatch: Expected 0 rows, received array of length 100",
     "output_type": "error",
     "traceback": [
      "\u001b[0;31m---------------------------------------------------------------------------\u001b[0m",
      "\u001b[0;31mValueError\u001b[0m                                Traceback (most recent call last)",
      "\u001b[1;32mUntitled-1.ipynb Cell 7\u001b[0m in \u001b[0;36m<cell line: 16>\u001b[0;34m()\u001b[0m\n\u001b[1;32m     <a href='vscode-notebook-cell:Untitled-1.ipynb?jupyter-notebook#X10sdW50aXRsZWQ%3D?line=11'>12</a>\u001b[0m dataframe[df[\u001b[39m'\u001b[39m\u001b[39mproperties.start\u001b[39m\u001b[39m'\u001b[39m]] \u001b[39m=\u001b[39m dataframe[df[\u001b[39m'\u001b[39m\u001b[39mproperties.start\u001b[39m\u001b[39m'\u001b[39m]]\u001b[39m.\u001b[39mastype(\u001b[39m\"\u001b[39m\u001b[39mdatetime64\u001b[39m\u001b[39m\"\u001b[39m)\n\u001b[1;32m     <a href='vscode-notebook-cell:Untitled-1.ipynb?jupyter-notebook#X10sdW50aXRsZWQ%3D?line=13'>14</a>\u001b[0m \u001b[39m# Setting the Date as index\u001b[39;00m\n\u001b[0;32m---> <a href='vscode-notebook-cell:Untitled-1.ipynb?jupyter-notebook#X10sdW50aXRsZWQ%3D?line=15'>16</a>\u001b[0m dataframe \u001b[39m=\u001b[39m dataframe\u001b[39m.\u001b[39;49mset_index(df[\u001b[39m'\u001b[39;49m\u001b[39mproperties.start\u001b[39;49m\u001b[39m'\u001b[39;49m])\n\u001b[1;32m     <a href='vscode-notebook-cell:Untitled-1.ipynb?jupyter-notebook#X10sdW50aXRsZWQ%3D?line=18'>19</a>\u001b[0m \u001b[39m# Plot\u001b[39;00m\n\u001b[1;32m     <a href='vscode-notebook-cell:Untitled-1.ipynb?jupyter-notebook#X10sdW50aXRsZWQ%3D?line=20'>21</a>\u001b[0m plt\u001b[39m.\u001b[39mplot(dataframe[df[\u001b[39m'\u001b[39m\u001b[39mproperties.value\u001b[39m\u001b[39m'\u001b[39m]], marker\u001b[39m=\u001b[39m\u001b[39m'\u001b[39m\u001b[39mo\u001b[39m\u001b[39m'\u001b[39m)\n",
      "File \u001b[0;32m~/.local/lib/python3.10/site-packages/pandas/util/_decorators.py:311\u001b[0m, in \u001b[0;36mdeprecate_nonkeyword_arguments.<locals>.decorate.<locals>.wrapper\u001b[0;34m(*args, **kwargs)\u001b[0m\n\u001b[1;32m    305\u001b[0m \u001b[39mif\u001b[39;00m \u001b[39mlen\u001b[39m(args) \u001b[39m>\u001b[39m num_allow_args:\n\u001b[1;32m    306\u001b[0m     warnings\u001b[39m.\u001b[39mwarn(\n\u001b[1;32m    307\u001b[0m         msg\u001b[39m.\u001b[39mformat(arguments\u001b[39m=\u001b[39marguments),\n\u001b[1;32m    308\u001b[0m         \u001b[39mFutureWarning\u001b[39;00m,\n\u001b[1;32m    309\u001b[0m         stacklevel\u001b[39m=\u001b[39mstacklevel,\n\u001b[1;32m    310\u001b[0m     )\n\u001b[0;32m--> 311\u001b[0m \u001b[39mreturn\u001b[39;00m func(\u001b[39m*\u001b[39;49margs, \u001b[39m*\u001b[39;49m\u001b[39m*\u001b[39;49mkwargs)\n",
      "File \u001b[0;32m~/.local/lib/python3.10/site-packages/pandas/core/frame.py:5550\u001b[0m, in \u001b[0;36mDataFrame.set_index\u001b[0;34m(self, keys, drop, append, inplace, verify_integrity)\u001b[0m\n\u001b[1;32m   5545\u001b[0m             to_remove\u001b[39m.\u001b[39mappend(col)\n\u001b[1;32m   5547\u001b[0m     \u001b[39mif\u001b[39;00m \u001b[39mlen\u001b[39m(arrays[\u001b[39m-\u001b[39m\u001b[39m1\u001b[39m]) \u001b[39m!=\u001b[39m \u001b[39mlen\u001b[39m(\u001b[39mself\u001b[39m):\n\u001b[1;32m   5548\u001b[0m         \u001b[39m# check newest element against length of calling frame, since\u001b[39;00m\n\u001b[1;32m   5549\u001b[0m         \u001b[39m# ensure_index_from_sequences would not raise for append=False.\u001b[39;00m\n\u001b[0;32m-> 5550\u001b[0m         \u001b[39mraise\u001b[39;00m \u001b[39mValueError\u001b[39;00m(\n\u001b[1;32m   5551\u001b[0m             \u001b[39mf\u001b[39m\u001b[39m\"\u001b[39m\u001b[39mLength mismatch: Expected \u001b[39m\u001b[39m{\u001b[39;00m\u001b[39mlen\u001b[39m(\u001b[39mself\u001b[39m)\u001b[39m}\u001b[39;00m\u001b[39m rows, \u001b[39m\u001b[39m\"\u001b[39m\n\u001b[1;32m   5552\u001b[0m             \u001b[39mf\u001b[39m\u001b[39m\"\u001b[39m\u001b[39mreceived array of length \u001b[39m\u001b[39m{\u001b[39;00m\u001b[39mlen\u001b[39m(arrays[\u001b[39m-\u001b[39m\u001b[39m1\u001b[39m])\u001b[39m}\u001b[39;00m\u001b[39m\"\u001b[39m\n\u001b[1;32m   5553\u001b[0m         )\n\u001b[1;32m   5555\u001b[0m index \u001b[39m=\u001b[39m ensure_index_from_sequences(arrays, names)\n\u001b[1;32m   5557\u001b[0m \u001b[39mif\u001b[39;00m verify_integrity \u001b[39mand\u001b[39;00m \u001b[39mnot\u001b[39;00m index\u001b[39m.\u001b[39mis_unique:\n",
      "\u001b[0;31mValueError\u001b[0m: Length mismatch: Expected 0 rows, received array of length 100"
     ]
    }
   ],
   "source": [
    "# Import Library\n",
    "\n",
    "import matplotlib.pyplot as plt\n",
    "\n",
    "\n",
    "# Create dataframe\n",
    "\n",
    "dataframe = pd.DataFrame(data,columns=[df['properties.start'], df['properties.value']])\n",
    " \n",
    "# Changing the datatype\n",
    "\n",
    "dataframe[df['properties.start']] = dataframe[df['properties.start']].astype(\"datetime64\")\n",
    " \n",
    "# Setting the Date as index\n",
    "\n",
    "dataframe = dataframe.set_index(df['properties.start'])\n",
    "\n",
    "\n",
    "# Plot\n",
    "\n",
    "plt.plot(dataframe[df['properties.value']], marker='o')\n",
    "\n",
    "# Labelling \n",
    "\n",
    "plt.xlabel(df['properties.start'])\n",
    "plt.ylabel(\"Temp in Faherenheit\")\n",
    "plt.title(\"Pandas Time Series Plot\")\n",
    "\n",
    "# Display\n",
    "\n",
    "plt.show()"
   ]
  }
 ],
 "metadata": {
  "kernelspec": {
   "display_name": "Python 3.10.4 64-bit",
   "language": "python",
   "name": "python3"
  },
  "language_info": {
   "codemirror_mode": {
    "name": "ipython",
    "version": 3
   },
   "file_extension": ".py",
   "mimetype": "text/x-python",
   "name": "python",
   "nbconvert_exporter": "python",
   "pygments_lexer": "ipython3",
   "version": "3.10.6"
  },
  "orig_nbformat": 4,
  "vscode": {
   "interpreter": {
    "hash": "31f2aee4e71d21fbe5cf8b01ff0e069b9275f58929596ceb00d14d90e3e16cd6"
   }
  }
 },
 "nbformat": 4,
 "nbformat_minor": 2
}
