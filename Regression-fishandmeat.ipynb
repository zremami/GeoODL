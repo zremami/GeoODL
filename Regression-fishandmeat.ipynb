{
 "cells": [
  {
   "cell_type": "code",
   "execution_count": null,
   "metadata": {},
   "outputs": [],
   "source": [
    "from owslib.wfs import WebFeatureService\n",
    "wfs11 = WebFeatureService(url='https://www.imis.bfs.de/ogc/opendata/ows', version='1.1.0')\n",
    "wfs11.identification.title"
   ]
  },
  {
   "cell_type": "code",
   "execution_count": null,
   "metadata": {},
   "outputs": [],
   "source": [
    "typeName1='opendata:nuklide_fisch'\n",
    "typeName2='opendata:nuklide_fleisch'"
   ]
  },
  {
   "cell_type": "code",
   "execution_count": null,
   "metadata": {},
   "outputs": [],
   "source": [
    "#multiple filter\n",
    "\n",
    "import json\n",
    "from owslib.fes import *\n",
    "from owslib.etree import etree\n",
    "import xml.dom.minidom \n",
    "\n",
    "filter1 = PropertyIsGreaterThanOrEqualTo(propertyname='sample_begin', literal='2020-09-01')\n",
    "filter2 = PropertyIsLike(propertyname='nuclide', literal='Sr-90',wildCard='*')\n",
    "#filters3= PropertyIsLike(propertyname='local_authority', literal='Ulm',wildCard='*')\n",
    "filters=[filter1,filter2]\n",
    "\n",
    "#filterxml = etree.tostring(filter2.toXML()).decode(\"utf-8\")\n",
    "filterxml = etree.tostring(And(operations=filters).toXML()).decode(\"utf-8\")\n",
    "\n",
    "\n",
    "response1 = wfs11.getfeature(typename=typeName2,filter = filterxml,outputFormat='application/json',maxfeatures=100)\n",
    "# convert IO-byte to bytes\n",
    "bytesD=bytes(response1.read())\n",
    "# convert to json\n",
    "data1 = json.loads(bytesD)\n",
    "print(data1)"
   ]
  },
  {
   "cell_type": "code",
   "execution_count": null,
   "metadata": {},
   "outputs": [],
   "source": [
    "# getting dataset1\n",
    "import json\n",
    "from owslib.fes import *\n",
    "from owslib.etree import etree\n",
    "import xml.dom.minidom \n",
    "\n",
    "filter = PropertyIsLike(propertyname='nuclide', literal='Sr-90',wildCard='*')\n",
    "filterxml = etree.tostring(filter.toXML()).decode(\"utf-8\")\n",
    "response1 = wfs11.getfeature(typename=typeName1,filter = filterxml,outputFormat='application%2Fjson',maxfeatures=100)\n",
    "# convert IO-byte to bytes\n",
    "bytesD=bytes(response1.read())\n",
    "# convert to json\n",
    "data1 = json.loads(bytesD)"
   ]
  },
  {
   "cell_type": "code",
   "execution_count": null,
   "metadata": {},
   "outputs": [],
   "source": [
    "\n",
    "\n",
    "import json\n",
    "from owslib.fes import *\n",
    "from owslib.etree import etree\n",
    "import xml.dom.minidom \n",
    "\n",
    "filter1 = PropertyIsGreaterThanOrEqualTo(propertyname='end_measure', literal='2022-10-22')\n",
    "filter2 = PropertyIsLike(propertyname='kenn', literal='031520111',wildCard='*')\n",
    "#filters3= PropertyIsLike(propertyname='local_authority', literal='Ulm',wildCard='*')\n",
    "filters=[filter1,filter2]\n",
    "\n",
    "filterxml = etree.tostring(And(operations=filters).toXML()).decode(\"utf-8\")\n",
    "\n",
    "response1 = wfs11.getfeature(typename='odlinfo_timeseries_precipitation_15min',filter = filterxml,outputFormat='application/json',maxfeatures=1000)\n",
    "# convert IO-byte to bytes\n",
    "bytesD=bytes(response1.read())\n",
    "# convert to json\n",
    "data1 = json.loads(bytesD)\n",
    "print(data1)"
   ]
  },
  {
   "cell_type": "code",
   "execution_count": null,
   "metadata": {},
   "outputs": [],
   "source": [
    "# getting dataset2\n",
    "import json\n",
    "\n",
    "filter = PropertyIsGreaterThanOrEqualTo(propertyname='sample_begin', literal='2021-11-01')\n",
    "filterxml = etree.tostring(filter.toXML()).decode(\"utf-8\")\n",
    "response2 = wfs11.getfeature(typename=typeName2,filter = filterxml,outputFormat='application%2Fjson',maxfeatures=100)\n",
    "# convert IO-byte to bytes\n",
    "bytesD=bytes(response2.read())\n",
    "# convert to json\n",
    "data2 = json.loads(bytesD)"
   ]
  },
  {
   "cell_type": "code",
   "execution_count": null,
   "metadata": {},
   "outputs": [],
   "source": [
    "#save json to show in qgis\n",
    "import json\n",
    "with open(typeName1 + '.json', 'w', encoding='utf-8') as f:\n",
    "    json.dump(data1, f, ensure_ascii=False, indent=4)"
   ]
  },
  {
   "cell_type": "code",
   "execution_count": null,
   "metadata": {},
   "outputs": [],
   "source": [
    "#save json to show in qgis\n",
    "import json\n",
    "with open(typeName2 + '.json', 'w', encoding='utf-8') as f:\n",
    "    json.dump(data2, f, ensure_ascii=False, indent=4)"
   ]
  },
  {
   "cell_type": "code",
   "execution_count": null,
   "metadata": {},
   "outputs": [],
   "source": [
    "import pandas as pd\n",
    "#using pandas for serializing\n",
    "df1= pd.json_normalize(data1,\"features\")\n",
    "df2= pd.json_normalize(data2,\"features\")"
   ]
  },
  {
   "cell_type": "code",
   "execution_count": null,
   "metadata": {},
   "outputs": [],
   "source": [
    "#bar plot dataset1\n",
    "\n",
    "from matplotlib import pyplot as plt\n",
    "\n",
    "nuclide = df1['properties.nuclide']\n",
    "value = df1['properties.value']\n",
    " \n",
    "# Figure Size\n",
    "fig = plt.figure(figsize =(10, 7))\n",
    " \n",
    "# Horizontal Bar Plot\n",
    "plt.bar(nuclide, value)\n",
    " \n",
    "# Show Plot\n",
    "plt.show()"
   ]
  },
  {
   "cell_type": "code",
   "execution_count": null,
   "metadata": {},
   "outputs": [],
   "source": [
    "from matplotlib import pyplot as plt\n",
    "\n",
    "nuclide = df2['properties.nuclide']\n",
    "value = df2['properties.value']\n",
    " \n",
    "# Figure Size\n",
    "fig = plt.figure(figsize =(10, 7))\n",
    " \n",
    "# Horizontal Bar Plot\n",
    "plt.bar(nuclide, value)\n",
    " \n",
    "# Show Plot\n",
    "plt.show()"
   ]
  },
  {
   "cell_type": "code",
   "execution_count": null,
   "metadata": {},
   "outputs": [],
   "source": [
    "from matplotlib import pyplot as plt\n",
    "import requests\n",
    "import numpy as np\n",
    "\n",
    "x= np.array(df1['properties.value'])\n",
    "y=np.array(df2['properties.value'])\n",
    "\n",
    "\n",
    "plt.scatter(x,y)\n",
    "plt.show()"
   ]
  },
  {
   "cell_type": "code",
   "execution_count": null,
   "metadata": {},
   "outputs": [],
   "source": [
    "import matplotlib.pyplot as plt\n",
    "from scipy import stats\n",
    "\n",
    "\n",
    "slope, intercept, r, p, std_err = stats.linregress(x, y)\n",
    "\n",
    "def myfunc(x):\n",
    "  return slope * x + intercept\n",
    "\n",
    "mymodel = list(map(myfunc, x))\n",
    "\n",
    "plt.scatter(x, y)\n",
    "plt.plot(x, mymodel)\n",
    "plt.show()"
   ]
  },
  {
   "cell_type": "code",
   "execution_count": null,
   "metadata": {},
   "outputs": [],
   "source": [
    "import sklearn \n",
    "from sklearn.linear_model import LinearRegression\n",
    "\n",
    "model = LinearRegression()\n",
    "model.fit(x.reshape((-1, 1)), y)\n"
   ]
  },
  {
   "cell_type": "code",
   "execution_count": null,
   "metadata": {},
   "outputs": [],
   "source": [
    "model = LinearRegression().fit(x.reshape((-1, 1)), y)\n",
    "r_sq = model.score(x.reshape((-1, 1)), y)\n",
    "print(f\"coefficient of determination: {r_sq}\")"
   ]
  }
 ],
 "metadata": {
  "kernelspec": {
   "display_name": "Python 3.10.6 ('venv': venv)",
   "language": "python",
   "name": "python3"
  },
  "language_info": {
   "codemirror_mode": {
    "name": "ipython",
    "version": 3
   },
   "file_extension": ".py",
   "mimetype": "text/x-python",
   "name": "python",
   "nbconvert_exporter": "python",
   "pygments_lexer": "ipython3",
   "version": "3.10.6"
  },
  "orig_nbformat": 4,
  "vscode": {
   "interpreter": {
    "hash": "2328d2da73a9fcd434d5123fdf0b050f12d74f062384cf4df835b26248159b4f"
   }
  }
 },
 "nbformat": 4,
 "nbformat_minor": 2
}
