{
 "cells": [
  {
   "cell_type": "code",
   "execution_count": null,
   "metadata": {},
   "outputs": [],
   "source": [
    "from owslib.wfs import WebFeatureService"
   ]
  },
  {
   "cell_type": "code",
   "execution_count": null,
   "metadata": {},
   "outputs": [],
   "source": [
    "wfs11 = WebFeatureService(url='https://entw-imis.lab.bfs.de/ogc/opendata/wfs', version='1.1.0')\n",
    "wfs11.identification.title"
   ]
  },
  {
   "cell_type": "code",
   "execution_count": null,
   "metadata": {},
   "outputs": [],
   "source": [
    "[operation.name for operation in wfs11.operations]"
   ]
  },
  {
   "cell_type": "code",
   "execution_count": null,
   "metadata": {},
   "outputs": [],
   "source": [
    "list(wfs11.contents)"
   ]
  },
  {
   "cell_type": "code",
   "execution_count": 3,
   "metadata": {},
   "outputs": [],
   "source": [
    "#opendata:public_precipitation_15min\n",
    "#opendata:public_odl_brutto_1h\n",
    "typeName='opendata:public_odl_brutto_1h'"
   ]
  },
  {
   "cell_type": "code",
   "execution_count": null,
   "metadata": {},
   "outputs": [],
   "source": [
    "wfs11.get_schema(typeName)"
   ]
  },
  {
   "cell_type": "code",
   "execution_count": null,
   "metadata": {},
   "outputs": [],
   "source": [
    "import xml.dom.minidom # WFS returns GML - this library is used to parse it\n",
    "\n",
    "response = wfs11.getfeature(typename=typeName, bbox=(7.800293,47.709762,13.579102,54.033586), srsname='EPSG:4326',maxfeatures=2)\n",
    "xml = xml.dom.minidom.parse(response) # or xml.dom.minidom.parseString(xml_string)\n",
    "print(xml.toprettyxml(indent=\"    \"))"
   ]
  },
  {
   "cell_type": "code",
   "execution_count": null,
   "metadata": {},
   "outputs": [],
   "source": [
    "from owslib.fes import *\n",
    "from owslib.etree import etree\n",
    "import xml.dom.minidom # WFS returns GML - this library is used to parse it\n",
    "\n",
    "# apply filter by property name and value\n",
    "filter = property\n",
    "filter=PropertyIsGreaterThanOrEqualTo(propertyname='opendata:end_measure', literal='2021-07-29T00:00:000Z')\n",
    "filterxml = etree.tostring(filter.toXML()).decode(\"utf-8\")\n",
    "\n",
    "response = wfs11.getfeature(typename=typeName,filter = filterxml, maxfeatures=5)\n",
    "\n",
    "xml = xml.dom.minidom.parse(response) # or xml.dom.minidom.parseString(xml_string)\n",
    "print(xml.toprettyxml(indent=\"    \"))"
   ]
  },
  {
   "cell_type": "code",
   "execution_count": null,
   "metadata": {},
   "outputs": [],
   "source": [
    "import json\n",
    "\n",
    "#7.089845,45.253298,12.166505,55.075436\n",
    "#7.800293,47.709762,13.579102,54.033586\n",
    "response1 = wfs11.getfeature(typename='opendata:nuklide_fisch',bbox=(7.800293,47.709762,13.579102,54.033586), srsname='EPSG:4326', maxfeatures=2, outputFormat='application%2Fjson')\n",
    "# convert IO-byte to bytes\n",
    "bytesD=bytes(response1.read())\n",
    "# convert to json\n",
    "data = json.loads(bytesD)\n",
    "print(data)"
   ]
  },
  {
   "cell_type": "code",
   "execution_count": null,
   "metadata": {},
   "outputs": [],
   "source": [
    "from owslib.fes import *\n",
    "from owslib.etree import etree\n",
    "import json\n",
    "import pandas as pd\n",
    "\n",
    "filter= PropertyIsLike(propertyname='id', literal='DEZ2408',wildCard='*')\n",
    "#filter2 = PropertyIsGreaterThanOrEqualTo(propertyname='end_measure', literal='2022-11-17')\n",
    "#filters=[filter1,filter2]\n",
    "\n",
    "\n",
    "filterxml = etree.tostring(filter.toXML()).decode(\"utf-8\")\n",
    "#filterxml = etree.tostring(And(operations=filters).toXML()).decode(\"utf-8\")\n",
    "\n",
    "response = wfs11.getfeature(typename='opendata:odlinfo_timeseries_precipitation_15min',filter=filterxml,bbox=(7.800293,47.709762,13.579102,54.033586), maxfeatures=10, srsname='EPSG:4326',outputFormat='application/json')\n",
    "bytesD=bytes(response.read())\n",
    "# convert to json\n",
    "data = json.loads(bytesD)\n",
    "print(data)\n"
   ]
  },
  {
   "cell_type": "code",
   "execution_count": null,
   "metadata": {},
   "outputs": [],
   "source": [
    "from owslib.fes import *\n",
    "from owslib.etree import etree\n",
    "import json\n",
    "\n",
    "# apply filter by property name and value\n",
    "\n",
    "#filterxml = \"<ogc:Filter><ogc:PropertyIsGreaterThanOrEqualTo><ogc:PropertyName>end_measure</ogc:PropertyName><ogc:Literal>2022-08-09</ogc:Literal></ogc:PropertyIsGreaterThanOrEqualTo><ogc:PropertyIsEqualTo><ogc:PropertyName>source</ogc:PropertyName><ogc:Literal>BFS</ogc:Literal></ogc:PropertyIsEqualTo></ogc:Filter>\"   # create the filter for the specie\n",
    "filter1 = PropertyIsGreaterThanOrEqualTo(propertyname='end_measure', literal='2022-01-01')\n",
    "#filter1= PropertyIsNull(propertyname='value')\n",
    "filter2= PropertyIsLike(propertyname='network', literal='BfS',wildCard='*')\n",
    "filter3= PropertyIsLike(propertyname='id', literal='DEZ2634',wildCard='*')\n",
    "#filter3=PropertyIsGreaterThanOrEqualTo(propertyname='height_above_sea', literal=100)\n",
    "#filter2 = PropertyIsEqualTo(propertyname='network_id', literal='Z')\n",
    "filters=[filter1,filter2,filter3]\n",
    "\n",
    "\n",
    "\n",
    "\n",
    "#filterxml = '<ogc:Filter><ogc:And><ogc:PropertyIsGreaterThanOrEqualTo xmlns:ogc=\"http://www.opengis.net/ogc\"><ogc:PropertyName>sample_end</ogc:PropertyName><ogc:Literal>2022-07-12</ogc:Literal></ogc:PropertyIsGreaterThanOrEqualTo><ogc:PropertyIsLike xmlns:ogc=\"http://www.opengis.net/ogc\" wildCard=\"*\" singleChar=\"_\" escapeChar=\"\\\\\"><ogc:PropertyName>local_authority</ogc:PropertyName><ogc:Literal>Marktbreit</ogc:Literal></ogc:PropertyIsLike></ogc:And></ogc:Filter>'\n",
    "filterxml = etree.tostring(And(operations=filters).toXML()).decode(\"utf-8\")\n",
    "#filterxml = etree.tostring(filter1.toXML()).decode(\"utf-8\")\n",
    "\n",
    "response = wfs11.getfeature(typename=typeName,filter = filterxml,outputFormat='application%2Fjson')\n",
    "# convert IO-byte to bytes\n",
    "bytesD=bytes(response.read())\n",
    "# convert to json\n",
    "data = json.loads(bytesD)"
   ]
  },
  {
   "cell_type": "code",
   "execution_count": 4,
   "metadata": {},
   "outputs": [],
   "source": [
    "from owslib.fes import *\n",
    "from owslib.etree import etree\n",
    "import json\n",
    "\n",
    "# apply filter by property name and value\n",
    "\n",
    "#filterxml = \"<ogc:Filter><ogc:PropertyIsGreaterThanOrEqualTo><ogc:PropertyName>end_measure</ogc:PropertyName><ogc:Literal>2022-08-09</ogc:Literal></ogc:PropertyIsGreaterThanOrEqualTo><ogc:PropertyIsEqualTo><ogc:PropertyName>source</ogc:PropertyName><ogc:Literal>BFS</ogc:Literal></ogc:PropertyIsEqualTo></ogc:Filter>\"   # create the filter for the specie\n",
    "#filter1 = PropertyIsGreaterThanOrEqualTo(propertyname='end_measure', literal='2021-01-01')\n",
    "filter1 = PropertyIsBetween(propertyname='start', lower='2022-01-01' ,upper='2022.12.23 06:00:00')\n",
    "#filter1= PropertyIsNull(propertyname='value')\n",
    "#filter2= PropertyIsLike(propertyname='source', literal='BfS',wildCard='*')\n",
    "filter2= PropertyIsLike(propertyname='id', literal='DEZ0177',wildCard='*')\n",
    "#filter3=PropertyIsGreaterThanOrEqualTo(propertyname='height_above_sea', literal=100)\n",
    "#filter2 = PropertyIsEqualTo(propertyname='network_id', literal='Z')\n",
    "filters=[filter1,filter2]\n",
    "\n",
    "\n",
    "\n",
    "\n",
    "#filterxml = '<ogc:Filter><ogc:And><ogc:PropertyIsGreaterThanOrEqualTo xmlns:ogc=\"http://www.opengis.net/ogc\"><ogc:PropertyName>sample_end</ogc:PropertyName><ogc:Literal>2022-07-12</ogc:Literal></ogc:PropertyIsGreaterThanOrEqualTo><ogc:PropertyIsLike xmlns:ogc=\"http://www.opengis.net/ogc\" wildCard=\"*\" singleChar=\"_\" escapeChar=\"\\\\\"><ogc:PropertyName>local_authority</ogc:PropertyName><ogc:Literal>Marktbreit</ogc:Literal></ogc:PropertyIsLike></ogc:And></ogc:Filter>'\n",
    "filterxml = etree.tostring(And(operations=filters).toXML()).decode(\"utf-8\")\n",
    "#filterxml = etree.tostring(filter1.toXML()).decode(\"utf-8\")\n",
    "\n",
    "response = wfs11.getfeature(typename=typeName,filter = filterxml,outputFormat='application%2Fjson')\n",
    "# convert IO-byte to bytes\n",
    "bytesD=bytes(response.read())\n",
    "# convert to json\n",
    "data = json.loads(bytesD)"
   ]
  },
  {
   "cell_type": "code",
   "execution_count": 5,
   "metadata": {},
   "outputs": [],
   "source": [
    "#save json to show in qgis\n",
    "import json\n",
    "with open(typeName + '.json', 'w', encoding='utf-8') as f:\n",
    "    json.dump(data, f, ensure_ascii=False, indent=4)"
   ]
  },
  {
   "cell_type": "code",
   "execution_count": null,
   "metadata": {},
   "outputs": [],
   "source": [
    "#save geojson and add layer in qgis\n",
    "import os # This is is needed in the pyqgis console also\n",
    "from qgis.core import (\n",
    "    QgsVectorLayer\n",
    ")\n",
    "from qgis.core import QgsProject\n",
    "\n",
    "# get the path to the shapefile e.g. /home/project/data/ports.shp\n",
    "path_to_layer = \"geotest.geojson\"\n",
    "\n",
    "# The format is:\n",
    "# vlayer = QgsVectorLayer(data_source, layer_name, provider_name)\n",
    "\n",
    "vlayer = QgsVectorLayer(path_to_layer, \"bfsgeo\", \"ogr\")\n",
    "if not vlayer.isValid():\n",
    "    print(\"Layer failed to load!\")\n",
    "else:\n",
    "    QgsProject.instance().addMapLayer(vlayer)"
   ]
  },
  {
   "cell_type": "code",
   "execution_count": null,
   "metadata": {},
   "outputs": [],
   "source": [
    "\n",
    "import pandas as pd\n",
    "from matplotlib import pyplot as plt\n",
    "import requests\n",
    "import json\n",
    "\n",
    "\n",
    "\n",
    "#df = pd.DataFrame(data=data)\n",
    "#print(df)\n",
    "\n",
    "# using pandas for serializing\n",
    "df= pd.json_normalize(data,\"features\")\n",
    "print(df)\n",
    "\n",
    "dfg = df.groupby('properties.id').count()\n",
    "print(dfg)\n",
    "# using matplotlib scatter chart\n",
    "plt.bar(dfg.index, dfg['properties.value'], width=0.5, color=\"maroon\")\n",
    "plt.show()\n",
    "\n",
    "# using pandas plot\n",
    "dfg.plot()"
   ]
  },
  {
   "cell_type": "code",
   "execution_count": null,
   "metadata": {},
   "outputs": [],
   "source": [
    "import pandas as pd\n",
    "from matplotlib import pyplot as plt\n",
    "import requests\n",
    "import json\n",
    "\n",
    "\n",
    "\n",
    "#df = pd.DataFrame(data=data)\n",
    "#print(df)\n",
    "\n",
    "# using pandas for serializing\n",
    "df= pd.json_normalize(data,\"features\")\n",
    "x = df['properties.end_measure']\n",
    "y = df['properties.value']\n",
    "  \n",
    "plt.plot(x,y)\n",
    "plt.show()"
   ]
  }
 ],
 "metadata": {
  "kernelspec": {
   "display_name": "Python 3.10.4 64-bit",
   "language": "python",
   "name": "python3"
  },
  "language_info": {
   "codemirror_mode": {
    "name": "ipython",
    "version": 3
   },
   "file_extension": ".py",
   "mimetype": "text/x-python",
   "name": "python",
   "nbconvert_exporter": "python",
   "pygments_lexer": "ipython3",
   "version": "3.10.6"
  },
  "orig_nbformat": 4,
  "vscode": {
   "interpreter": {
    "hash": "916dbcbb3f70747c44a77c7bcd40155683ae19c65e1c03b4aa3499c5328201f1"
   }
  }
 },
 "nbformat": 4,
 "nbformat_minor": 2
}
