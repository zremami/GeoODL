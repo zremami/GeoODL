{
 "cells": [
  {
   "cell_type": "code",
   "execution_count": null,
   "metadata": {},
   "outputs": [],
   "source": [
    "# This note was created to check duplicate, missing value, outliers, dublication and summarize and visulize opendata:public_odl_brutto_1h\n",
    "from owslib.wfs import WebFeatureService\n",
    "import json\n",
    "from owslib.fes import *\n",
    "\n",
    "# get WFS\n",
    "wfs11 = WebFeatureService(url='https://entw-imis.lab.bfs.de/ogc/opendata/wfs', version='1.1.0')\n",
    "\n",
    "# apply filtes\n",
    "filter1 = PropertyIsBetween(propertyname='start', lower='2021-01-01' ,upper= '2022-12-31')\n",
    "filter2 = PropertyIsLike(propertyname='id', literal='DEZ3159',wildCard='*')\n",
    "filters=[filter1,filter2]\n",
    "\n",
    "# get respose\n",
    "filterxml = etree.tostring(And(operations=filters).toXML()).decode(\"utf-8\")\n",
    "response = wfs11.getfeature(typename='opendata:public_odl_brutto_1h',filter = filterxml,outputFormat='application/json')\n",
    "\n",
    "# convert IO-byte to bytes\n",
    "bytesD=bytes(response.read())\n",
    "# convert to json\n",
    "data2 = json.loads(bytesD)\n"
   ]
  },
  {
   "cell_type": "code",
   "execution_count": null,
   "metadata": {},
   "outputs": [],
   "source": [
    "#save json to show in qgis\n",
    "import json\n",
    "with open('Halberstadt' + '.json', 'w', encoding='utf-8') as f:\n",
    "    json.dump(data2, f, ensure_ascii=False, indent=4)"
   ]
  },
  {
   "cell_type": "code",
   "execution_count": null,
   "metadata": {},
   "outputs": [],
   "source": [
    "# convert to data layer\n",
    "import pandas as pd\n",
    "datanorm1= pd.json_normalize(data2,\"features\")\n",
    "df2=pd.DataFrame(datanorm1)\n",
    "\n"
   ]
  },
  {
   "cell_type": "code",
   "execution_count": null,
   "metadata": {},
   "outputs": [],
   "source": [
    "#Describe data\n",
    "print(df2.sum())\n",
    "print(df2.info())\n",
    "print(df2[\"properties.value\"].describe())\n"
   ]
  },
  {
   "cell_type": "code",
   "execution_count": null,
   "metadata": {},
   "outputs": [],
   "source": [
    "# check duplicate\n",
    "duplicatef2 = df2[df2['properties.end_measure'].duplicated()]\n",
    "print(duplicatef2)"
   ]
  },
  {
   "cell_type": "code",
   "execution_count": null,
   "metadata": {},
   "outputs": [],
   "source": [
    "#prepare data to plot\n",
    "from IPython.display import display\n",
    "from matplotlib import pyplot as plt\n",
    "import seaborn as sns\n",
    "import numpy as np\n",
    "\n",
    "\n",
    "df2['properties.end_measure'] = pd.to_datetime(df2['properties.end_measure']).dt.tz_localize(None)\n",
    "df2['properties.start'] = pd.to_datetime(df2['properties.start']).dt.tz_localize(None)\n",
    "df2 = df2.set_index(df2['properties.end_measure'])\n"
   ]
  },
  {
   "cell_type": "code",
   "execution_count": null,
   "metadata": {},
   "outputs": [],
   "source": [
    "# dates which are not in the sequence are returned\n",
    "missv=pd.date_range(start=\"2021-01-01 00:00:00\", end=\"2022-12-31 23:00:00\", freq = 'H').difference(df2.index)\n",
    "#print(missv.sort_values(ascending=True))\n",
    "print(pd.DataFrame(missv).count())\n",
    "missv = np.array(pd.to_datetime(missv.sort_values(ascending=True)))\n",
    "print(missv)"
   ]
  },
  {
   "cell_type": "code",
   "execution_count": null,
   "metadata": {},
   "outputs": [],
   "source": [
    "# resample daily\n",
    "import seaborn as sns\n",
    "\n",
    "df2=df2.resample('D').mean()\n"
   ]
  },
  {
   "cell_type": "code",
   "execution_count": null,
   "metadata": {},
   "outputs": [],
   "source": [
    "# check null values\n",
    "isnulldf2 = df2[df2['properties.value'].isnull()]\n",
    "print(isnulldf2)"
   ]
  },
  {
   "cell_type": "code",
   "execution_count": null,
   "metadata": {},
   "outputs": [],
   "source": [
    "\n",
    "# time series plot\n",
    "import matplotlib.dates as mdates\n",
    "fig, ax = plt.subplots(figsize=(11, 4))\n",
    "year_month_formatter = mdates.DateFormatter(\"%Y-%m\") # four digits for year, two for month\n",
    "ax.xaxis.set_major_formatter(year_month_formatter) # formatter for major axis only\n",
    "ax.plot(df2.index.values,df2['properties.value'],linewidth=0.7,color='red')\n",
    "\n",
    "plt.xlabel('Date')\n",
    "plt.ylabel('AGDR (μSv/d)')"
   ]
  },
  {
   "cell_type": "code",
   "execution_count": null,
   "metadata": {},
   "outputs": [],
   "source": [
    "# Scatter Plot\n",
    "fig, ax = plt.subplots(figsize=(11, 4))\n",
    "\n",
    "# Add x-axis and y-axis\n",
    "ax.scatter(df2.index.values,\n",
    "           df2['properties.value'],\n",
    "           color='red')\n",
    "ax.set(xlabel=\"Date\",\n",
    "       ylabel=\"AGDR (μSv/d)\")\n",
    "\n",
    "plt.show()"
   ]
  },
  {
   "cell_type": "code",
   "execution_count": null,
   "metadata": {},
   "outputs": [],
   "source": [
    "df2=df2.resample('W').mean()\n",
    "sns.set(rc={'figure.figsize':(11, 4)})\n",
    "df2['properties.value'].plot(linewidth=0.9)"
   ]
  },
  {
   "cell_type": "code",
   "execution_count": null,
   "metadata": {},
   "outputs": [],
   "source": [
    "\n",
    "df2=df2.resample('W').mean()\n",
    "# create the time series plot\n",
    "sns.set_style()\n",
    "  \n",
    "sns.lineplot(x = df2.index.values, y = \"properties.value\",\n",
    "             data = df2)\n",
    "  \n",
    "#plt.xticks(rotation = 25)"
   ]
  },
  {
   "cell_type": "code",
   "execution_count": null,
   "metadata": {},
   "outputs": [],
   "source": [
    "from pandas import DataFrame\n",
    "from pandas import Grouper\n",
    "from pandas import concat\n",
    "import seaborn as sns\n",
    "\n",
    "df2 = df2.resample('M').mean()\n",
    "df2 = df2.sort_index().loc['2021-01-01':'2021-12-31']\n",
    "print(df2.head())\n",
    "\n",
    "sns.set_style(\"whitegrid\")\n",
    "  \n",
    "sns.boxplot(x = df2.index.values, y = df2['properties.value'], data = df2)"
   ]
  },
  {
   "cell_type": "code",
   "execution_count": 1,
   "metadata": {},
   "outputs": [
    {
     "ename": "NameError",
     "evalue": "name 'df2' is not defined",
     "output_type": "error",
     "traceback": [
      "\u001b[0;31m---------------------------------------------------------------------------\u001b[0m",
      "\u001b[0;31mNameError\u001b[0m                                 Traceback (most recent call last)",
      "\u001b[1;32m/home/raha/Projects/GeoODL/preprocessing-ODL.ipynb Cell 15\u001b[0m in \u001b[0;36m<cell line: 2>\u001b[0;34m()\u001b[0m\n\u001b[1;32m      <a href='vscode-notebook-cell:/home/raha/Projects/GeoODL/preprocessing-ODL.ipynb#X20sZmlsZQ%3D%3D?line=0'>1</a>\u001b[0m \u001b[39mimport\u001b[39;00m \u001b[39mseaborn\u001b[39;00m \u001b[39mas\u001b[39;00m \u001b[39msns\u001b[39;00m\n\u001b[0;32m----> <a href='vscode-notebook-cell:/home/raha/Projects/GeoODL/preprocessing-ODL.ipynb#X20sZmlsZQ%3D%3D?line=1'>2</a>\u001b[0m df1\u001b[39m=\u001b[39mdf2\u001b[39m.\u001b[39mresample(\u001b[39m'\u001b[39m\u001b[39mD\u001b[39m\u001b[39m'\u001b[39m)\u001b[39m.\u001b[39msum()\n\u001b[1;32m      <a href='vscode-notebook-cell:/home/raha/Projects/GeoODL/preprocessing-ODL.ipynb#X20sZmlsZQ%3D%3D?line=2'>3</a>\u001b[0m sns\u001b[39m.\u001b[39mset(rc\u001b[39m=\u001b[39m{\u001b[39m'\u001b[39m\u001b[39mfigure.figsize\u001b[39m\u001b[39m'\u001b[39m:(\u001b[39m11\u001b[39m, \u001b[39m4\u001b[39m)})\n\u001b[1;32m      <a href='vscode-notebook-cell:/home/raha/Projects/GeoODL/preprocessing-ODL.ipynb#X20sZmlsZQ%3D%3D?line=3'>4</a>\u001b[0m \u001b[39m# Create figure and plot space\u001b[39;00m\n",
      "\u001b[0;31mNameError\u001b[0m: name 'df2' is not defined"
     ]
    }
   ],
   "source": [
    "import seaborn as sns\n",
    "df1=df2.resample('D').sum()\n",
    "sns.set(rc={'figure.figsize':(11, 4)})\n",
    "# Create figure and plot space\n",
    "fig, ax = plt.subplots(figsize=(8, 5))\n",
    "\n",
    "# Add x-axis and y-axis\n",
    "ax.scatter(df2.index.values,\n",
    "           df2['properties.value'],\n",
    "           color='blue')\n",
    "\n",
    "# Set title and labels for axes\n",
    "ax.set(xlabel=\"Date\",\n",
    "       ylabel=\"ODL (μSv/h)\")\n",
    "df2['properties.value'].plot(linewidth=0.5)"
   ]
  }
 ],
 "metadata": {
  "kernelspec": {
   "display_name": "Python 3.10.6 64-bit",
   "language": "python",
   "name": "python3"
  },
  "language_info": {
   "codemirror_mode": {
    "name": "ipython",
    "version": 3
   },
   "file_extension": ".py",
   "mimetype": "text/x-python",
   "name": "python",
   "nbconvert_exporter": "python",
   "pygments_lexer": "ipython3",
   "version": "3.10.6"
  },
  "orig_nbformat": 4,
  "vscode": {
   "interpreter": {
    "hash": "31f2aee4e71d21fbe5cf8b01ff0e069b9275f58929596ceb00d14d90e3e16cd6"
   }
  }
 },
 "nbformat": 4,
 "nbformat_minor": 2
}
