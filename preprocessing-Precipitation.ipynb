{
 "cells": [
  {
   "cell_type": "code",
   "execution_count": null,
   "metadata": {},
   "outputs": [],
   "source": [
    "# This note was created to check duplicate, missing value, outliers, dublication and summarize and visulize #opendata:public_precipitation_15min data layer\n",
    "from owslib.wfs import WebFeatureService\n",
    "import json\n",
    "from owslib.fes import *\n",
    "\n",
    "#get WFS\n",
    "wfs11 = WebFeatureService(url='https://entw-imis.lab.bfs.de/ogc/opendata/wfs', version='1.1.0')\n",
    "\n",
    "# apply filter\n",
    "filter1 = PropertyIsBetween(propertyname='start_measure', lower='2021-01-01' ,upper= '2022-12-31')\n",
    "filter2 = PropertyIsLike(propertyname='id', literal='DEZ3437',wildCard='*')\n",
    "\n",
    "filters=[filter1,filter2]\n",
    "\n",
    "filterxml = etree.tostring(And(operations=filters).toXML()).decode(\"utf-8\")\n",
    "\n",
    "response = wfs11.getfeature(typename='opendata:public_precipitation_15min',filter = filterxml,outputFormat='application/json')\n",
    "\n",
    "# convert IO-byte to bytes\n",
    "bytesD=bytes(response.read())\n",
    "# convert to json\n",
    "data1 = json.loads(bytesD)\n"
   ]
  },
  {
   "cell_type": "code",
   "execution_count": null,
   "metadata": {},
   "outputs": [],
   "source": [
    "#save json to show in qgis\n",
    "import json\n",
    "with open('Halberstadt-precipitation' + '.json', 'w', encoding='utf-8') as f:\n",
    "    json.dump(data1, f, ensure_ascii=False, indent=4)"
   ]
  },
  {
   "cell_type": "code",
   "execution_count": null,
   "metadata": {},
   "outputs": [],
   "source": [
    "#convert to datafarme\n",
    "import pandas as pd\n",
    "datanorm1= pd.json_normalize(data1,\"features\")\n",
    "df1=pd.DataFrame(datanorm1)"
   ]
  },
  {
   "cell_type": "code",
   "execution_count": null,
   "metadata": {},
   "outputs": [],
   "source": [
    "#describe data\n",
    "print(df1.sum())\n",
    "print(df1.info())\n",
    "print(df1[\"properties.value\"].describe())"
   ]
  },
  {
   "cell_type": "code",
   "execution_count": null,
   "metadata": {},
   "outputs": [],
   "source": [
    "\n",
    "# check duplicate\n",
    "duplicatef1 = df1[df1['properties.end_measure'].duplicated()]\n",
    "print(duplicatef1)"
   ]
  },
  {
   "cell_type": "code",
   "execution_count": null,
   "metadata": {},
   "outputs": [],
   "source": [
    "#prepare data to show plot\n",
    "from IPython.display import display\n",
    "from matplotlib import pyplot as plt\n",
    "import seaborn as sns\n",
    "import numpy as np\n",
    "\n",
    "df1['properties.end_measure'] = pd.to_datetime(df1['properties.end_measure']).dt.tz_localize(None)\n",
    "df1['properties.start_measure'] = pd.to_datetime(df1['properties.start_measure']).dt.tz_localize(None)\n",
    "df1 = df1.set_index(df1['properties.end_measure'])"
   ]
  },
  {
   "cell_type": "code",
   "execution_count": null,
   "metadata": {},
   "outputs": [],
   "source": [
    "# dates which are not in the sequence are returned\n",
    "missv=pd.date_range(start=\"2021-01-01 00:00:00\", end=\"2022-12-31 23:00:00\", freq = 'H').difference(df1.index)\n",
    "print(pd.DataFrame(missv).count())\n",
    "missv = np.array(pd.to_datetime(missv.sort_values(ascending=True)))\n",
    "print(missv)"
   ]
  },
  {
   "cell_type": "code",
   "execution_count": null,
   "metadata": {},
   "outputs": [],
   "source": [
    "# resample to date\n",
    "df1=df1.resample('D').mean()"
   ]
  },
  {
   "cell_type": "code",
   "execution_count": null,
   "metadata": {},
   "outputs": [],
   "source": [
    "# check null values\n",
    "isnulldf1 = df1[df1['properties.value'].isnull()]\n",
    "print(isnulldf1['properties.value'])"
   ]
  },
  {
   "cell_type": "code",
   "execution_count": null,
   "metadata": {},
   "outputs": [],
   "source": [
    "# time series plot\n",
    "\n",
    "import matplotlib.dates as mdates\n",
    "fig, ax = plt.subplots(figsize=(11, 4))\n",
    "year_month_formatter = mdates.DateFormatter(\"%Y-%m\") # four digits for year, two for month\n",
    "ax.xaxis.set_major_formatter(year_month_formatter) # formatter for major axis only\n",
    "ax.plot(df1.index.values,df1['properties.value'],linewidth=0.7,color='blue')\n",
    "\n",
    "\n",
    "# Providing x and y label to the chart\n",
    "plt.xlabel('Date')\n",
    "plt.ylabel('Precipitation (mm/d)')"
   ]
  },
  {
   "cell_type": "code",
   "execution_count": null,
   "metadata": {},
   "outputs": [],
   "source": [
    "# Scatter Plot\n",
    "fig, ax = plt.subplots(figsize=(11, 4))\n",
    "\n",
    "# Add x-axis and y-axis\n",
    "ax.scatter(df1.index.values,\n",
    "           df1['properties.value'],\n",
    "           color='blue')\n",
    "\n",
    "#title=\"Daily Precipitation Distribution at Halberstadt Station (2021-2022)\n",
    "# Set title and labels for axes\n",
    "ax.set(xlabel=\"Date\",\n",
    "       ylabel=\"Precipitation (mm/d)\")\n",
    "\n",
    "plt.show()"
   ]
  },
  {
   "cell_type": "code",
   "execution_count": null,
   "metadata": {},
   "outputs": [],
   "source": [
    "#plot for data visualization\n",
    "df1=df1.resample('W').mean()\n",
    "sns.set(rc={'figure.figsize':(11, 4)})\n",
    "df1['properties.value'].plot(linewidth=0.9)"
   ]
  },
  {
   "cell_type": "code",
   "execution_count": null,
   "metadata": {},
   "outputs": [],
   "source": [
    "#plot for data visualization\n",
    "df1=df1.resample('W').mean()\n",
    "# create the time series plot\n",
    "sns.set_style()\n",
    "  \n",
    "sns.lineplot(x = df1.index.values, y = \"properties.value\",\n",
    "             data = df1)\n",
    "  \n",
    "#plt.xticks(rotation = 25)"
   ]
  },
  {
   "cell_type": "code",
   "execution_count": null,
   "metadata": {},
   "outputs": [],
   "source": [
    "#plot for data visualization\n",
    "from pandas import DataFrame\n",
    "from pandas import Grouper\n",
    "from pandas import concat\n",
    "import seaborn as sns\n",
    "\n",
    "df1 = df1.resample('M').mean()\n",
    "df1 = df1.sort_index().loc['2021-01-01':'2021-12-31']\n",
    "print(df1.head())\n",
    "\n",
    "sns.set_style(\"whitegrid\")\n",
    "  \n",
    "sns.boxplot(x = df1.index.values, y = df1['properties.value'], data = df1)"
   ]
  },
  {
   "cell_type": "code",
   "execution_count": null,
   "metadata": {},
   "outputs": [],
   "source": [
    "#plot for data visualization\n",
    "import seaborn as sns\n",
    "sns.set(rc={'figure.figsize':(11, 4)})\n",
    "# Create figure and plot space\n",
    "fig, ax = plt.subplots(figsize=(8, 5))\n",
    "\n",
    "# Add x-axis and y-axis\n",
    "ax.scatter(df1.index.values,\n",
    "           df1['properties.value'],\n",
    "           color='blue')\n",
    "\n",
    "# Set title and labels for axes\n",
    "ax.set(xlabel=\"Date\",\n",
    "       ylabel=\"ODL (μSv/h)\")\n",
    "df1['properties.value'].plot(linewidth=0.5)"
   ]
  }
 ],
 "metadata": {
  "kernelspec": {
   "display_name": "Python 3.10.6 64-bit",
   "language": "python",
   "name": "python3"
  },
  "language_info": {
   "codemirror_mode": {
    "name": "ipython",
    "version": 3
   },
   "file_extension": ".py",
   "mimetype": "text/x-python",
   "name": "python",
   "nbconvert_exporter": "python",
   "pygments_lexer": "ipython3",
   "version": "3.10.6"
  },
  "orig_nbformat": 4,
  "vscode": {
   "interpreter": {
    "hash": "31f2aee4e71d21fbe5cf8b01ff0e069b9275f58929596ceb00d14d90e3e16cd6"
   }
  }
 },
 "nbformat": 4,
 "nbformat_minor": 2
}
