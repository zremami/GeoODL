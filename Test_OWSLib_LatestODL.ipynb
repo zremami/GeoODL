{
 "cells": [
  {
   "cell_type": "code",
   "execution_count": null,
   "metadata": {},
   "outputs": [],
   "source": [
    "# This noet was created for further data undrestanding \n",
    "#import OWSLIB\n",
    "from owslib.wfs import WebFeatureService\n",
    "wfs11 = WebFeatureService(url='https://www.imis.bfs.de/ogc/opendata/ows', version='1.1.0')\n",
    "wfs11.identification.title"
   ]
  },
  {
   "cell_type": "code",
   "execution_count": null,
   "metadata": {},
   "outputs": [],
   "source": [
    "#typename\n",
    "typeName1='opendata:odlinfo_odl_1h_latest'"
   ]
  },
  {
   "cell_type": "code",
   "execution_count": null,
   "metadata": {},
   "outputs": [],
   "source": [
    "# getting dataset1\n",
    "import json\n",
    "from owslib.fes import *\n",
    "from owslib.etree import etree\n",
    "import xml.dom.minidom \n",
    "\n",
    "response1 = wfs11.getfeature(typename=typeName1,bbox=(7.800293,47.709762,13.579102,54.033586), srsname='EPSG:4326', maxfeatures=500, outputFormat='application%2Fjson')\n",
    "# convert IO-byte to bytes\n",
    "bytesD=bytes(response1.read())\n",
    "# convert to json\n",
    "data1 = json.loads(bytesD)"
   ]
  },
  {
   "cell_type": "code",
   "execution_count": null,
   "metadata": {},
   "outputs": [],
   "source": [
    "#save json to show in qgis\n",
    "import json\n",
    "with open(typeName1 + '.json', 'w', encoding='utf-8') as f:\n",
    "    json.dump(data1, f, ensure_ascii=False, indent=4)"
   ]
  },
  {
   "cell_type": "code",
   "execution_count": null,
   "metadata": {},
   "outputs": [],
   "source": [
    "# create data fame\n",
    "import pandas as pd\n",
    "#using pandas for serializing\n",
    "df1= pd.json_normalize(data1,\"features\")\n"
   ]
  },
  {
   "cell_type": "code",
   "execution_count": null,
   "metadata": {},
   "outputs": [],
   "source": [
    "#check null value\n",
    "df1[\"properties.value\"] = df1[\"properties.value\"].fillna(value=df1[\"properties.value\"].mean())\n",
    "df1[\"properties.height_above_sea\"] = df1[\"properties.height_above_sea\"].fillna(value=df1[\"properties.height_above_sea\"].mean())"
   ]
  },
  {
   "cell_type": "code",
   "execution_count": null,
   "metadata": {},
   "outputs": [],
   "source": [
    "#bar plot dataset1\n",
    "\n",
    "from matplotlib import pyplot as plt\n",
    "\n",
    "nuclide = df1['properties.name']\n",
    "value = df1['properties.value']\n",
    " \n",
    "# Figure Size\n",
    "fig = plt.figure(figsize =(10, 7))\n",
    " \n",
    "# Horizontal Bar Plot\n",
    "plt.bar(nuclide, value)\n",
    " \n",
    "# Show Plot\n",
    "plt.show()"
   ]
  },
  {
   "cell_type": "code",
   "execution_count": null,
   "metadata": {},
   "outputs": [],
   "source": [
    "\n",
    "import numpy as np\n",
    "\n",
    "x= np.array(df1['properties.value'])\n",
    "#y=np.array(df1['properties.value_terrestrial'])\n",
    "y=np.array(df1['properties.height_above_sea'])\n",
    "\n",
    "\n",
    "plt.scatter(x,y)\n",
    "plt.show()"
   ]
  },
  {
   "cell_type": "code",
   "execution_count": null,
   "metadata": {},
   "outputs": [],
   "source": [
    "import matplotlib.pyplot as plt\n",
    "from scipy import stats\n",
    "\n",
    "\n",
    "\n",
    "slope, intercept, r, p, std_err = stats.linregress(x, y)\n",
    "\n",
    "def myfunc(x):\n",
    "  return slope * x + intercept\n",
    "\n",
    "mymodel = list(map(myfunc, x))\n",
    "\n",
    "plt.scatter(x, y)\n",
    "plt.plot(x, mymodel)\n",
    "plt.show()"
   ]
  }
 ],
 "metadata": {
  "kernelspec": {
   "display_name": "Python 3.10.6 64-bit",
   "language": "python",
   "name": "python3"
  },
  "language_info": {
   "codemirror_mode": {
    "name": "ipython",
    "version": 3
   },
   "file_extension": ".py",
   "mimetype": "text/x-python",
   "name": "python",
   "nbconvert_exporter": "python",
   "pygments_lexer": "ipython3",
   "version": "3.10.6"
  },
  "orig_nbformat": 4,
  "vscode": {
   "interpreter": {
    "hash": "916dbcbb3f70747c44a77c7bcd40155683ae19c65e1c03b4aa3499c5328201f1"
   }
  }
 },
 "nbformat": 4,
 "nbformat_minor": 2
}
